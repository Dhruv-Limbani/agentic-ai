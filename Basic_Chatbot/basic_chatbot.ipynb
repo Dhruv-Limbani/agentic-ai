{
 "cells": [
  {
   "cell_type": "code",
   "execution_count": 1,
   "id": "5548ca71",
   "metadata": {},
   "outputs": [],
   "source": [
    "from typing import Annotated\n",
    "\n",
    "from typing_extensions import TypedDict\n",
    "\n",
    "from langgraph.graph import StateGraph, START, END\n",
    "from langgraph.graph.message import add_messages"
   ]
  },
  {
   "cell_type": "code",
   "execution_count": 2,
   "id": "1ca35e89",
   "metadata": {},
   "outputs": [],
   "source": [
    "class State(TypedDict):\n",
    "    # messages: list[str]\n",
    "    # The `add_messages` function in the annotation defines how this state key is updated\n",
    "    # in this case, it appends new messages to the list, rather than replacing it.\n",
    "\n",
    "    messages: Annotated[list, add_messages]"
   ]
  },
  {
   "cell_type": "code",
   "execution_count": 3,
   "id": "f37317bd",
   "metadata": {},
   "outputs": [
    {
     "data": {
      "text/plain": [
       "True"
      ]
     },
     "execution_count": 3,
     "metadata": {},
     "output_type": "execute_result"
    }
   ],
   "source": [
    "import os\n",
    "from dotenv import load_dotenv\n",
    "load_dotenv()"
   ]
  },
  {
   "cell_type": "code",
   "execution_count": 25,
   "id": "4b7035db",
   "metadata": {},
   "outputs": [
    {
     "data": {
      "text/plain": [
       "ChatGoogleGenerativeAI(model='models/gemini-2.5-flash-lite', google_api_key=SecretStr('**********'), client=<google.ai.generativelanguage_v1beta.services.generative_service.client.GenerativeServiceClient object at 0x11a4cad50>, default_metadata=(), model_kwargs={})"
      ]
     },
     "execution_count": 25,
     "metadata": {},
     "output_type": "execute_result"
    }
   ],
   "source": [
    "from langchain.chat_models import init_chat_model\n",
    "\n",
    "llm = init_chat_model(\"google_genai:gemini-2.5-flash-lite\")\n",
    "llm"
   ]
  },
  {
   "cell_type": "code",
   "execution_count": 26,
   "id": "cc38826f",
   "metadata": {},
   "outputs": [],
   "source": [
    "## Node Functionality\n",
    "def chatbot(state: State):\n",
    "    return {\"messages\":[llm.invoke(state[\"messages\"])]}"
   ]
  },
  {
   "cell_type": "code",
   "execution_count": 27,
   "id": "0021df3c",
   "metadata": {},
   "outputs": [],
   "source": [
    "graph_builder = StateGraph(State)\n",
    "\n",
    "## Adding node\n",
    "graph_builder.add_node(\"llmchatbot\",chatbot)\n",
    "\n",
    "## Adding Edges\n",
    "graph_builder.add_edge(START, \"llmchatbot\")\n",
    "graph_builder.add_edge(\"llmchatbot\", END)\n",
    "\n",
    "## compiling the graph\n",
    "graph = graph_builder.compile()"
   ]
  },
  {
   "cell_type": "code",
   "execution_count": 28,
   "id": "ad8f0780",
   "metadata": {},
   "outputs": [
    {
     "data": {
      "image/png": "[encoded data removed]",
      "text/plain": [
       "<IPython.core.display.Image object>"
      ]
     },
     "metadata": {},
     "output_type": "display_data"
    }
   ],
   "source": [
    "## Visualizing the graph\n",
    "from IPython.display import display, Image\n",
    "\n",
    "try:\n",
    "    display(Image(graph.get_graph().draw_mermaid_png()))\n",
    "except Exception:\n",
    "    pass"
   ]
  },
  {
   "cell_type": "code",
   "execution_count": 29,
   "id": "b0e68154",
   "metadata": {},
   "outputs": [],
   "source": [
    "response = graph.invoke({\"messages\": \"Hello, how are you?\"})"
   ]
  },
  {
   "cell_type": "code",
   "execution_count": 30,
   "id": "f7390080",
   "metadata": {},
   "outputs": [
    {
     "data": {
      "text/plain": [
       "[HumanMessage(content='Hello, how are you?', additional_kwargs={}, response_metadata={}, id='b452e7fc-7b4d-4d63-bf75-c3c08ae74888'),\n",
       " AIMessage(content=\"Hello! I'm doing well, thank you for asking. As a large language model, I don't experience feelings in the same way humans do, but I'm functioning optimally and ready to assist you.\\n\\nHow are you today? What can I help you with?\", additional_kwargs={}, response_metadata={'prompt_feedback': {'block_reason': 0, 'safety_ratings': []}, 'finish_reason': 'STOP', 'model_name': 'gemini-2.5-flash-lite', 'safety_ratings': []}, id='run--a523d536-2ba9-4363-98e9-323e5624a9c6-0', usage_metadata={'input_tokens': 7, 'output_tokens': 57, 'total_tokens': 64, 'input_token_details': {'cache_read': 0}})]"
      ]
     },
     "execution_count": 30,
     "metadata": {},
     "output_type": "execute_result"
    }
   ],
   "source": [
    "response[\"messages\"]"
   ]
  },
  {
   "cell_type": "code",
   "execution_count": 10,
   "id": "ad501848",
   "metadata": {},
   "outputs": [
    {
     "data": {
      "text/plain": [
       "\"Hello! I am doing well, thank you for asking. I am an AI, so I don't experience feelings in the same way humans do, but I am functioning optimally and ready to assist you.\\n\\nHow are you today? Is there anything I can help you with?\""
      ]
     },
     "execution_count": 10,
     "metadata": {},
     "output_type": "execute_result"
    }
   ],
   "source": [
    "response[\"messages\"][-1].content"
   ]
  },
  {
   "cell_type": "code",
   "execution_count": 11,
   "id": "762d1126",
   "metadata": {},
   "outputs": [
    {
     "name": "stdout",
     "output_type": "stream",
     "text": [
      "Here are 5 different Python code variants to calculate the factorial of a number, showcasing various approaches:\n",
      "\n",
      "**1. Iterative Approach (using a `for` loop)**\n",
      "\n",
      "This is a straightforward and common way to calculate factorial.\n",
      "\n",
      "```python\n",
      "def factorial_iterative(n):\n",
      "  \"\"\"Calculates the factorial of a non-negative integer using a for loop.\"\"\"\n",
      "  if n < 0:\n",
      "    return \"Factorial is not defined for negative numbers\"\n",
      "  elif n == 0:\n",
      "    return 1\n",
      "  else:\n",
      "    result = 1\n",
      "    for i in range(1, n + 1):\n",
      "      result *= i\n",
      "    return result\n",
      "\n",
      "# Example usage:\n",
      "num = 5\n",
      "print(f\"The factorial of {num} (iterative) is: {factorial_iterative(num)}\")\n",
      "```\n",
      "\n",
      "**Explanation:**\n",
      "*   It handles negative numbers and the base case of 0.\n",
      "*   It initializes `result` to 1.\n",
      "*   It iterates from 1 up to `n` (inclusive), multiplying `result` by each number.\n",
      "\n",
      "**2. Iterative Approach (using a `while` loop)**\n",
      "\n",
      "Similar to the `for` loop, but uses a `while` loop for iteration.\n",
      "\n",
      "```python\n",
      "def factorial_while(n):\n",
      "  \"\"\"Calculates the factorial of a non-negative integer using a while loop.\"\"\"\n",
      "  if n < 0:\n",
      "    return \"Factorial is not defined for negative numbers\"\n",
      "  elif n == 0:\n",
      "    return 1\n",
      "  else:\n",
      "    result = 1\n",
      "    i = 1\n",
      "    while i <= n:\n",
      "      result *= i\n",
      "      i += 1\n",
      "    return result\n",
      "\n",
      "# Example usage:\n",
      "num = 5\n",
      "print(f\"The factorial of {num} (while loop) is: {factorial_while(num)}\")\n",
      "```\n",
      "\n",
      "**Explanation:**\n",
      "*   The logic is identical to the `for` loop version, just the loop construct is different.\n",
      "\n",
      "**3. Recursive Approach**\n",
      "\n",
      "This is a classic example of recursion, where a function calls itself.\n",
      "\n",
      "```python\n",
      "def factorial_recursive(n):\n",
      "  \"\"\"Calculates the factorial of a non-negative integer using recursion.\"\"\"\n",
      "  if n < 0:\n",
      "    return \"Factorial is not defined for negative numbers\"\n",
      "  elif n == 0:\n",
      "    return 1\n",
      "  else:\n",
      "    return n * factorial_recursive(n - 1)\n",
      "\n",
      "# Example usage:\n",
      "num = 5\n",
      "print(f\"The factorial of {num} (recursive) is: {factorial_recursive(num)}\")\n",
      "```\n",
      "\n",
      "**Explanation:**\n",
      "*   **Base Case:** When `n` is 0, it returns 1. This is crucial to stop the recursion.\n",
      "*   **Recursive Step:** For any other `n`, it returns `n` multiplied by the factorial of `n-1`. This breaks down the problem into smaller, self-similar subproblems.\n",
      "\n",
      "**4. Using the `math` module**\n",
      "\n",
      "Python's built-in `math` module provides a highly optimized `factorial` function.\n",
      "\n",
      "```python\n",
      "import math\n",
      "\n",
      "def factorial_math_module(n):\n",
      "  \"\"\"Calculates the factorial of a non-negative integer using the math module.\"\"\"\n",
      "  if n < 0:\n",
      "    return \"Factorial is not defined for negative numbers\"\n",
      "  else:\n",
      "    return math.factorial(n)\n",
      "\n",
      "# Example usage:\n",
      "num = 5\n",
      "print(f\"The factorial of {num} (math module) is: {factorial_math_module(num)}\")\n",
      "```\n",
      "\n",
      "**Explanation:**\n",
      "*   This is the most concise and often the most efficient way to calculate factorial in Python, as the `math.factorial` function is implemented in C for performance.\n",
      "\n",
      "**5. Using `functools.reduce` (Functional Approach)**\n",
      "\n",
      "This approach leverages the `reduce` function from the `functools` module to apply a function cumulatively to the items of a sequence.\n",
      "\n",
      "```python\n",
      "from functools import reduce\n",
      "import operator\n",
      "\n",
      "def factorial_reduce(n):\n",
      "  \"\"\"Calculates the factorial of a non-negative integer using functools.reduce.\"\"\"\n",
      "  if n < 0:\n",
      "    return \"Factorial is not defined for negative numbers\"\n",
      "  elif n == 0:\n",
      "    return 1\n",
      "  else:\n",
      "    # reduce applies the operator.mul function to each element in the range\n",
      "    # starting with the initial value of 1.\n",
      "    return reduce(operator.mul, range(1, n + 1), 1)\n",
      "\n",
      "# Example usage:\n",
      "num = 5\n",
      "print(f\"The factorial of {num} (reduce) is: {factorial_reduce(num)}\")\n",
      "```\n",
      "\n",
      "**Explanation:**\n",
      "*   `reduce(function, iterable, initializer)`:\n",
      "    *   `operator.mul`: This is a function that performs multiplication.\n",
      "    *   `range(1, n + 1)`: This is the sequence of numbers from 1 to `n`.\n",
      "    *   `1`: This is the `initializer`. The `reduce` function starts by applying `operator.mul` to the `initializer` and the first element of the `iterable`.\n",
      "\n",
      "**Key Considerations and When to Use Each:**\n",
      "\n",
      "*   **Iterative (for/while):** Good for understanding the fundamental process. Generally efficient for most practical purposes.\n",
      "*   **Recursive:** Elegant for demonstrating recursion, but can be less efficient due to function call overhead and potential for stack overflow with very large numbers.\n",
      "*   **`math` module:** **Recommended for most practical scenarios.** It's the most concise, readable, and performant option.\n",
      "*   **`functools.reduce`:** A more functional programming style. Can be less intuitive for beginners but is powerful for certain types of cumulative operations.\n",
      "\n",
      "Choose the variant that best suits your needs for clarity, performance, and the specific context of your program.\n"
     ]
    }
   ],
   "source": [
    "for event in graph.stream({\"messages\": \"Give me a 5 different variants of python code to calculate the factorial of a number\"}):\n",
    "    for value in event.values():\n",
    "        print(value[\"messages\"][-1].content)\n",
    "# This will print the response from the chatbot as it streams\n",
    "# Note: The streaming will continue until the end of the response is reached.\n",
    "# You can stop the streaming by interrupting the kernel or stopping the execution."
   ]
  },
  {
   "cell_type": "markdown",
   "id": "b9d18db5",
   "metadata": {},
   "source": [
    "## Chatbot With Tool"
   ]
  },
  {
   "cell_type": "code",
   "execution_count": 12,
   "id": "ab8c0c1d",
   "metadata": {},
   "outputs": [
    {
     "data": {
      "text/plain": [
       "{'query': 'What is LangGraph?',\n",
       " 'follow_up_questions': None,\n",
       " 'answer': None,\n",
       " 'images': [],\n",
       " 'results': [{'url': 'https://www.ibm.com/think/topics/langgraph',\n",
       "   'title': 'What is LangGraph?',\n",
       "   'content': 'LangGraph, created by LangChain, is an open source AI agent framework designed to build, deploy and manage complex generative AI agent workflows. At its core, LangGraph uses the power of graph-based architectures to model and manage the intricate relationships between various components of an AI agent workflow. LangGraph illuminates the processes within an AI workflow, allowing full transparency of the agent’s state. By combining these technologies with a set of APIs and tools, LangGraph provides users with a versatile platform for developing AI solutions and workflows including chatbots, state graphs and other agent-based systems. **Nodes**: In LangGraph, nodes represent individual components or agents within an AI workflow. LangGraph uses enhanced decision-making by modeling complex relationships between nodes, which means it uses AI agents to analyze their past actions and feedback.',\n",
       "   'score': 0.9635647,\n",
       "   'raw_content': None},\n",
       "  {'url': 'https://www.datacamp.com/tutorial/langgraph-tutorial',\n",
       "   'title': 'LangGraph Tutorial: What Is LangGraph and How to Use It?',\n",
       "   'content': 'LangGraph is a library within the LangChain ecosystem that provides a framework for defining, coordinating, and executing multiple LLM agents (or chains) in a structured and efficient manner. By managing the flow of data and the sequence of operations, LangGraph allows developers to focus on the high-level logic of their applications rather than the intricacies of agent coordination. Whether you need a chatbot that can handle various types of user requests or a multi-agent system that performs complex tasks, LangGraph provides the tools to build exactly what you need. LangGraph significantly simplifies the development of complex LLM applications by providing a structured framework for managing state and coordinating agent interactions.',\n",
       "   'score': 0.9581988,\n",
       "   'raw_content': None}],\n",
       " 'response_time': 1.0,\n",
       " 'request_id': '1a99bf70-294b-481a-b842-12ae04adbb85'}"
      ]
     },
     "execution_count": 12,
     "metadata": {},
     "output_type": "execute_result"
    }
   ],
   "source": [
    "from langchain_tavily import TavilySearch\n",
    "\n",
    "tool = TavilySearch(max_results=2)\n",
    "\n",
    "tool.invoke(\"What is LangGraph?\")"
   ]
  },
  {
   "cell_type": "code",
   "execution_count": 13,
   "id": "b6b76555",
   "metadata": {},
   "outputs": [],
   "source": [
    "## Custom Function\n",
    "\n",
    "def multiply(a: int, b: int) -> int:\n",
    "    \"\"\"Miltiply a and b\n",
    "    Args:\n",
    "        a (int): First number\n",
    "        b (int): Second number\n",
    "    Returns:\n",
    "        int: Product of a and b\n",
    "    \"\"\"\n",
    "    return a * b"
   ]
  },
  {
   "cell_type": "code",
   "execution_count": 14,
   "id": "b21dd277",
   "metadata": {},
   "outputs": [],
   "source": [
    "tools = [tool, multiply]"
   ]
  },
  {
   "cell_type": "code",
   "execution_count": 15,
   "id": "57de3594",
   "metadata": {},
   "outputs": [
    {
     "data": {
      "text/plain": [
       "RunnableBinding(bound=ChatGoogleGenerativeAI(model='models/gemini-2.5-flash-lite', google_api_key=SecretStr('**********'), client=<google.ai.generativelanguage_v1beta.services.generative_service.client.GenerativeServiceClient object at 0x10d24ef90>, default_metadata=(), model_kwargs={}), kwargs={'tools': [{'type': 'function', 'function': {'name': 'tavily_search', 'description': 'A search engine optimized for comprehensive, accurate, and trusted results. Useful for when you need to answer questions about current events. It not only retrieves URLs and snippets, but offers advanced search depths, domain management, time range filters, and image search, this tool delivers real-time, accurate, and citation-backed results.Input should be a search query.', 'parameters': {'properties': {'query': {'description': 'Search query to look up', 'type': 'string'}, 'include_domains': {'anyOf': [{'items': {'type': 'string'}, 'type': 'array'}, {'type': 'null'}], 'default': [], 'description': 'A list of domains to restrict search results to.\\n\\n        Use this parameter when:\\n        1. The user explicitly requests information from specific websites (e.g., \"Find climate data from nasa.gov\")\\n        2. The user mentions an organization or company without specifying the domain (e.g., \"Find information about iPhones from Apple\")\\n\\n        In both cases, you should determine the appropriate domains (e.g., [\"nasa.gov\"] or [\"apple.com\"]) and set this parameter.\\n\\n        Results will ONLY come from the specified domains - no other sources will be included.\\n        Default is None (no domain restriction).\\n        '}, 'exclude_domains': {'anyOf': [{'items': {'type': 'string'}, 'type': 'array'}, {'type': 'null'}], 'default': [], 'description': 'A list of domains to exclude from search results.\\n\\n        Use this parameter when:\\n        1. The user explicitly requests to avoid certain websites (e.g., \"Find information about climate change but not from twitter.com\")\\n        2. The user mentions not wanting results from specific organizations without naming the domain (e.g., \"Find phone reviews but nothing from Apple\")\\n\\n        In both cases, you should determine the appropriate domains to exclude (e.g., [\"twitter.com\"] or [\"apple.com\"]) and set this parameter.\\n\\n        Results will filter out all content from the specified domains.\\n        Default is None (no domain exclusion).\\n        '}, 'search_depth': {'anyOf': [{'enum': ['basic', 'advanced'], 'type': 'string'}, {'type': 'null'}], 'default': 'basic', 'description': 'Controls search thoroughness and result comprehensiveness.\\n    \\n        Use \"basic\" for simple queries requiring quick, straightforward answers.\\n        \\n        Use \"advanced\" (default) for complex queries, specialized topics, \\n        rare information, or when in-depth analysis is needed.\\n        '}, 'include_images': {'anyOf': [{'type': 'boolean'}, {'type': 'null'}], 'default': False, 'description': 'Determines if the search returns relevant images along with text results.\\n   \\n        Set to True when the user explicitly requests visuals or when images would \\n        significantly enhance understanding (e.g., \"Show me what black holes look like,\" \\n        \"Find pictures of Renaissance art\").\\n        \\n        Leave as False (default) for most informational queries where text is sufficient.\\n        '}, 'time_range': {'anyOf': [{'enum': ['day', 'week', 'month', 'year'], 'type': 'string'}, {'type': 'null'}], 'default': None, 'description': 'Limits results to content published within a specific timeframe.\\n        \\n        ONLY set this when the user explicitly mentions a time period \\n        (e.g., \"latest AI news,\" \"articles from last week\").\\n        \\n        For less popular or niche topics, use broader time ranges \\n        (\"month\" or \"year\") to ensure sufficient relevant results.\\n   \\n        Options: \"day\" (24h), \"week\" (7d), \"month\" (30d), \"year\" (365d).\\n        \\n        Default is None.\\n        '}, 'topic': {'anyOf': [{'enum': ['general', 'news', 'finance'], 'type': 'string'}, {'type': 'null'}], 'default': 'general', 'description': 'Specifies search category for optimized results.\\n   \\n        Use \"general\" (default) for most queries, INCLUDING those with terms like \\n        \"latest,\" \"newest,\" or \"recent\" when referring to general information.\\n\\n        Use \"finance\" for markets, investments, economic data, or financial news.\\n\\n        Use \"news\" ONLY for politics, sports, or major current events covered by \\n        mainstream media - NOT simply because a query asks for \"new\" information.\\n        '}, 'include_favicon': {'anyOf': [{'type': 'boolean'}, {'type': 'null'}], 'default': False, 'description': \"Determines whether to include favicon URLs for each search result.\\n        \\n        When enabled, each search result will include the website's favicon URL,\\n        which can be useful for:\\n        - Building rich UI interfaces with visual website indicators\\n        - Providing visual cues about the source's credibility or brand\\n        - Creating bookmark-like displays with recognizable site icons\\n        \\n        Set to True when creating user interfaces that benefit from visual branding\\n        or when favicon information enhances the user experience.\\n        \\n        Default is False to minimize response size and API usage.\\n        \"}, 'start_date': {'anyOf': [{'type': 'string'}, {'type': 'null'}], 'default': None, 'description': 'Filters search results to include only content published on or after this date.\\n        \\n        Use this parameter when you need to:\\n        - Find recent developments or updates on a topic\\n        - Exclude outdated information from search results\\n        - Focus on content within a specific timeframe\\n        - Combine with end_date to create a custom date range\\n        \\n        Format must be YYYY-MM-DD (e.g., \"2024-01-15\" for January 15, 2024).\\n        \\n        Examples:\\n        - \"2024-01-01\" - Results from January 1, 2024 onwards\\n        - \"2023-12-25\" - Results from December 25, 2023 onwards\\n        \\n        When combined with end_date, creates a precise date range filter.\\n        \\n        Default is None (no start date restriction).\\n        '}, 'end_date': {'anyOf': [{'type': 'string'}, {'type': 'null'}], 'default': None, 'description': 'Filters search results to include only content published on or before this date.\\n        \\n        Use this parameter when you need to:\\n        - Exclude content published after a certain date\\n        - Study historical information or past events\\n        - Research how topics were covered during specific time periods\\n        - Combine with start_date to create a custom date range\\n        \\n        Format must be YYYY-MM-DD (e.g., \"2024-03-31\" for March 31, 2024).\\n        \\n        Examples:\\n        - \"2024-03-31\" - Results up to and including March 31, 2024\\n        - \"2023-12-31\" - Results up to and including December 31, 2023\\n        \\n        When combined with start_date, creates a precise date range filter.\\n        For example: start_date=\"2024-01-01\", end_date=\"2024-03-31\" \\n        returns results from Q1 2024 only.\\n        \\n        Default is None (no end date restriction).\\n        '}}, 'required': ['query'], 'type': 'object'}}}, {'type': 'function', 'function': {'name': 'multiply', 'description': 'Miltiply a and b\\nArgs:\\n    a (int): First number\\n    b (int): Second number\\nReturns:\\n    int: Product of a and b', 'parameters': {'properties': {'a': {'type': 'integer'}, 'b': {'type': 'integer'}}, 'required': ['a', 'b'], 'type': 'object'}}}]}, config={}, config_factories=[])"
      ]
     },
     "execution_count": 15,
     "metadata": {},
     "output_type": "execute_result"
    }
   ],
   "source": [
    "llm_with_tools = llm.bind_tools(tools)\n",
    "\n",
    "llm_with_tools"
   ]
  },
  {
   "cell_type": "code",
   "execution_count": 16,
   "id": "e6aa2321",
   "metadata": {},
   "outputs": [
    {
     "data": {
      "image/png": "[encoded data removed]",
      "text/plain": [
       "<IPython.core.display.Image object>"
      ]
     },
     "metadata": {},
     "output_type": "display_data"
    }
   ],
   "source": [
    "## StateGraph with Tools\n",
    "from langgraph.graph import StateGraph, START, END\n",
    "from langgraph.prebuilt import ToolNode, tools_condition\n",
    "\n",
    "# Node definition\n",
    "def tool_calling_llm(state: State):\n",
    "    \"\"\"Node that calls the LLM with tools\"\"\"\n",
    "    messages = state[\"messages\"]\n",
    "    response = llm_with_tools.invoke(messages)\n",
    "    return {\"messages\": [response]}\n",
    "\n",
    "# Grapg definition\n",
    "graph_builder = StateGraph(State)\n",
    "graph_builder.add_node(\"tool_calling_llm\",tool_calling_llm)\n",
    "graph_builder.add_node(\"tools\",ToolNode(tools=tools))\n",
    "\n",
    "graph_builder.add_edge(START, \"tool_calling_llm\")\n",
    "graph_builder.add_conditional_edges(\n",
    "    \"tool_calling_llm\",\n",
    "    # if the latest message from the assistant is a tool call, then tools_condition routes the flow to the tools node\n",
    "    # if not, it routes to the END node\n",
    "    tools_condition\n",
    ")\n",
    "\n",
    "graph_builder.add_edge(\"tools\", END)\n",
    "graph_builder.add_edge(\"tool_calling_llm\", END)\n",
    "\n",
    "graph = graph_builder.compile()\n",
    "\n",
    "try:\n",
    "    display(Image(graph.get_graph().draw_mermaid_png()))\n",
    "except Exception:\n",
    "    pass"
   ]
  },
  {
   "cell_type": "code",
   "execution_count": 17,
   "id": "66cf6edf",
   "metadata": {},
   "outputs": [
    {
     "data": {
      "text/plain": [
       "{'messages': [HumanMessage(content='What is the recent ai news?', additional_kwargs={}, response_metadata={}, id='b0e865ec-69e4-4f51-be13-ec3b2a860d19'),\n",
       "  AIMessage(content='', additional_kwargs={'function_call': {'name': 'tavily_search', 'arguments': '{\"query\": \"AI news\", \"topic\": \"news\", \"time_range\": \"day\"}'}}, response_metadata={'prompt_feedback': {'block_reason': 0, 'safety_ratings': []}, 'finish_reason': 'STOP', 'model_name': 'gemini-2.5-flash-lite', 'safety_ratings': []}, id='run--f00af8f9-88af-4bfb-b199-9579eb47f0a6-0', tool_calls=[{'name': 'tavily_search', 'args': {'query': 'AI news', 'topic': 'news', 'time_range': 'day'}, 'id': 'd950040b-a24a-49d6-8094-d10eacde8f55', 'type': 'tool_call'}], usage_metadata={'input_tokens': 1327, 'output_tokens': 30, 'total_tokens': 1357, 'input_token_details': {'cache_read': 0}}),\n",
       "  ToolMessage(content='{\"query\": \"AI news\", \"follow_up_questions\": null, \"answer\": null, \"images\": [], \"results\": [{\"url\": \"https://www.startupecosystem.ca/news/silicon-valleys-pro-ai-pacs-influencing-us-midterm-elections/\", \"title\": \"Silicon Valley’s Pro-AI PACs Influencing US Midterm Elections - Startup Ecosystem Canada\", \"score\": 0.37986192, \"published_date\": \"Mon, 25 Aug 2025 20:10:01 GMT\", \"content\": \"## Silicon Valley’s Pro-AI PACs Influencing US Midterm Elections Silicon Valley heavyweights, including venture-capital firm Andreessen Horowitz and OpenAI President Greg Brockman, are investing over $100 million into a new network of political-action committees (PACs) aimed at advocating for AI-friendly regulations during the upcoming US midterm elections. AI regulationGlobal startup newsPolitical action committeesTech industry lobbyingUS midterm elections techcrunch.com #### Silicon Valley is pouring millions into pro-AI PACs to sway midterms #### Silicon Valley is pouring millions into pro-AI PACs to sway midterms #### Silicon Valley Launches Pro-AI PACs to Defend Industry in Midterm Elections AI AI development AI infrastructure AI innovation AI integration AI investment AI models AI technology Canada startup news Global startup news Ontario startup news Toronto startup news\", \"raw_content\": null}, {\"url\": \"https://www.startupecosystem.ca/news/andreessen-horowitz-intensifies-lobbying-efforts-with-1-49m-spend/\", \"title\": \"Andreessen Horowitz Intensifies Lobbying Efforts with $1.49M Spend - Startup Ecosystem Canada\", \"score\": 0.3396091, \"published_date\": \"Tue, 26 Aug 2025 06:13:58 GMT\", \"content\": \"## Andreessen Horowitz Intensifies Lobbying Efforts with $1.49M Spend Andreessen Horowitz, a leading venture capital firm, has significantly increased its lobbying efforts in Washington, spending $1.49 million so far this year. The firm’s lobbying strategy is unique among major venture capital firms, with competitors like Sequoia Capital and General Catalyst reporting much lower spending. Andreessen Horowitz’s lobbying focuses on a wide range of issues, including digital-asset regulation, stablecoins, AI, and defense priorities. Despite the high spending, lobbying dollars don’t always correlate with influence, as seen with other venture funds like Founders Fund. news.ycombinator.com AI AI development AI infrastructure AI innovation AI integration AI investment AI models AI technology Canada founder news Canada startup news Generative AI Global founder news Global startup news Ontario founder news Ontario startup news Toronto startup news\", \"raw_content\": null}], \"response_time\": 1.34, \"request_id\": \"1611cabc-a3f3-4ec2-bebc-dd813bd847a6\"}', name='tavily_search', id='d5790858-0eff-4199-bb7b-dc4d8d150491', tool_call_id='d950040b-a24a-49d6-8094-d10eacde8f55')]}"
      ]
     },
     "execution_count": 17,
     "metadata": {},
     "output_type": "execute_result"
    }
   ],
   "source": [
    "response = graph.invoke({\"messages\": \"What is the recent ai news?\"})\n",
    "response"
   ]
  },
  {
   "cell_type": "code",
   "execution_count": 18,
   "id": "cb74874b",
   "metadata": {},
   "outputs": [
    {
     "data": {
      "text/plain": [
       "'{\"query\": \"AI news\", \"follow_up_questions\": null, \"answer\": null, \"images\": [], \"results\": [{\"url\": \"https://www.startupecosystem.ca/news/silicon-valleys-pro-ai-pacs-influencing-us-midterm-elections/\", \"title\": \"Silicon Valley’s Pro-AI PACs Influencing US Midterm Elections - Startup Ecosystem Canada\", \"score\": 0.37986192, \"published_date\": \"Mon, 25 Aug 2025 20:10:01 GMT\", \"content\": \"## Silicon Valley’s Pro-AI PACs Influencing US Midterm Elections Silicon Valley heavyweights, including venture-capital firm Andreessen Horowitz and OpenAI President Greg Brockman, are investing over $100 million into a new network of political-action committees (PACs) aimed at advocating for AI-friendly regulations during the upcoming US midterm elections. AI regulationGlobal startup newsPolitical action committeesTech industry lobbyingUS midterm elections techcrunch.com #### Silicon Valley is pouring millions into pro-AI PACs to sway midterms #### Silicon Valley is pouring millions into pro-AI PACs to sway midterms #### Silicon Valley Launches Pro-AI PACs to Defend Industry in Midterm Elections AI AI development AI infrastructure AI innovation AI integration AI investment AI models AI technology Canada startup news Global startup news Ontario startup news Toronto startup news\", \"raw_content\": null}, {\"url\": \"https://www.startupecosystem.ca/news/andreessen-horowitz-intensifies-lobbying-efforts-with-1-49m-spend/\", \"title\": \"Andreessen Horowitz Intensifies Lobbying Efforts with $1.49M Spend - Startup Ecosystem Canada\", \"score\": 0.3396091, \"published_date\": \"Tue, 26 Aug 2025 06:13:58 GMT\", \"content\": \"## Andreessen Horowitz Intensifies Lobbying Efforts with $1.49M Spend Andreessen Horowitz, a leading venture capital firm, has significantly increased its lobbying efforts in Washington, spending $1.49 million so far this year. The firm’s lobbying strategy is unique among major venture capital firms, with competitors like Sequoia Capital and General Catalyst reporting much lower spending. Andreessen Horowitz’s lobbying focuses on a wide range of issues, including digital-asset regulation, stablecoins, AI, and defense priorities. Despite the high spending, lobbying dollars don’t always correlate with influence, as seen with other venture funds like Founders Fund. news.ycombinator.com AI AI development AI infrastructure AI innovation AI integration AI investment AI models AI technology Canada founder news Canada startup news Generative AI Global founder news Global startup news Ontario founder news Ontario startup news Toronto startup news\", \"raw_content\": null}], \"response_time\": 1.34, \"request_id\": \"1611cabc-a3f3-4ec2-bebc-dd813bd847a6\"}'"
      ]
     },
     "execution_count": 18,
     "metadata": {},
     "output_type": "execute_result"
    }
   ],
   "source": [
    "response['messages'][-1].content"
   ]
  },
  {
   "cell_type": "code",
   "execution_count": 19,
   "id": "2976a652",
   "metadata": {},
   "outputs": [
    {
     "name": "stdout",
     "output_type": "stream",
     "text": [
      "================================\u001b[1m Human Message \u001b[0m=================================\n",
      "\n",
      "What is the recent ai news?\n",
      "==================================\u001b[1m Ai Message \u001b[0m==================================\n",
      "Tool Calls:\n",
      "  tavily_search (d950040b-a24a-49d6-8094-d10eacde8f55)\n",
      " Call ID: d950040b-a24a-49d6-8094-d10eacde8f55\n",
      "  Args:\n",
      "    query: AI news\n",
      "    topic: news\n",
      "    time_range: day\n",
      "=================================\u001b[1m Tool Message \u001b[0m=================================\n",
      "Name: tavily_search\n",
      "\n",
      "{\"query\": \"AI news\", \"follow_up_questions\": null, \"answer\": null, \"images\": [], \"results\": [{\"url\": \"https://www.startupecosystem.ca/news/silicon-valleys-pro-ai-pacs-influencing-us-midterm-elections/\", \"title\": \"Silicon Valley’s Pro-AI PACs Influencing US Midterm Elections - Startup Ecosystem Canada\", \"score\": 0.37986192, \"published_date\": \"Mon, 25 Aug 2025 20:10:01 GMT\", \"content\": \"## Silicon Valley’s Pro-AI PACs Influencing US Midterm Elections Silicon Valley heavyweights, including venture-capital firm Andreessen Horowitz and OpenAI President Greg Brockman, are investing over $100 million into a new network of political-action committees (PACs) aimed at advocating for AI-friendly regulations during the upcoming US midterm elections. AI regulationGlobal startup newsPolitical action committeesTech industry lobbyingUS midterm elections techcrunch.com #### Silicon Valley is pouring millions into pro-AI PACs to sway midterms #### Silicon Valley is pouring millions into pro-AI PACs to sway midterms #### Silicon Valley Launches Pro-AI PACs to Defend Industry in Midterm Elections AI AI development AI infrastructure AI innovation AI integration AI investment AI models AI technology Canada startup news Global startup news Ontario startup news Toronto startup news\", \"raw_content\": null}, {\"url\": \"https://www.startupecosystem.ca/news/andreessen-horowitz-intensifies-lobbying-efforts-with-1-49m-spend/\", \"title\": \"Andreessen Horowitz Intensifies Lobbying Efforts with $1.49M Spend - Startup Ecosystem Canada\", \"score\": 0.3396091, \"published_date\": \"Tue, 26 Aug 2025 06:13:58 GMT\", \"content\": \"## Andreessen Horowitz Intensifies Lobbying Efforts with $1.49M Spend Andreessen Horowitz, a leading venture capital firm, has significantly increased its lobbying efforts in Washington, spending $1.49 million so far this year. The firm’s lobbying strategy is unique among major venture capital firms, with competitors like Sequoia Capital and General Catalyst reporting much lower spending. Andreessen Horowitz’s lobbying focuses on a wide range of issues, including digital-asset regulation, stablecoins, AI, and defense priorities. Despite the high spending, lobbying dollars don’t always correlate with influence, as seen with other venture funds like Founders Fund. news.ycombinator.com AI AI development AI infrastructure AI innovation AI integration AI investment AI models AI technology Canada founder news Canada startup news Generative AI Global founder news Global startup news Ontario founder news Ontario startup news Toronto startup news\", \"raw_content\": null}], \"response_time\": 1.34, \"request_id\": \"1611cabc-a3f3-4ec2-bebc-dd813bd847a6\"}\n"
     ]
    }
   ],
   "source": [
    "for m in response['messages']:\n",
    "    m.pretty_print()"
   ]
  },
  {
   "cell_type": "code",
   "execution_count": 20,
   "id": "fd94c037",
   "metadata": {},
   "outputs": [
    {
     "name": "stdout",
     "output_type": "stream",
     "text": [
      "================================\u001b[1m Human Message \u001b[0m=================================\n",
      "\n",
      "What is 2 times 3?\n",
      "==================================\u001b[1m Ai Message \u001b[0m==================================\n",
      "Tool Calls:\n",
      "  multiply (c5c909c4-2c4f-45e9-94f5-d1cdd799248b)\n",
      " Call ID: c5c909c4-2c4f-45e9-94f5-d1cdd799248b\n",
      "  Args:\n",
      "    a: 2.0\n",
      "    b: 3.0\n",
      "=================================\u001b[1m Tool Message \u001b[0m=================================\n",
      "Name: multiply\n",
      "\n",
      "6\n"
     ]
    }
   ],
   "source": [
    "response = graph.invoke({\"messages\": \"What is 2 times 3?\"})\n",
    "for m in response['messages']:\n",
    "    m.pretty_print()"
   ]
  },
  {
   "cell_type": "code",
   "execution_count": 21,
   "id": "d9a31112",
   "metadata": {},
   "outputs": [
    {
     "name": "stdout",
     "output_type": "stream",
     "text": [
      "================================\u001b[1m Human Message \u001b[0m=================================\n",
      "\n",
      "What is 2 times 3 multiplied by -4?\n",
      "==================================\u001b[1m Ai Message \u001b[0m==================================\n",
      "Tool Calls:\n",
      "  multiply (3f8cb512-0400-4c40-b0c5-f53007db6d6e)\n",
      " Call ID: 3f8cb512-0400-4c40-b0c5-f53007db6d6e\n",
      "  Args:\n",
      "    a: 2.0\n",
      "    b: 3.0\n",
      "  multiply (6ed31cbd-4914-4fe0-996b-9ee88878a66b)\n",
      " Call ID: 6ed31cbd-4914-4fe0-996b-9ee88878a66b\n",
      "  Args:\n",
      "    a: -12.0\n",
      "    b: -4.0\n",
      "=================================\u001b[1m Tool Message \u001b[0m=================================\n",
      "Name: multiply\n",
      "\n",
      "6\n",
      "=================================\u001b[1m Tool Message \u001b[0m=================================\n",
      "Name: multiply\n",
      "\n",
      "48\n"
     ]
    }
   ],
   "source": [
    "response = graph.invoke({\"messages\": \"What is 2 times 3 multiplied by -4?\"})\n",
    "for m in response['messages']:\n",
    "    m.pretty_print()"
   ]
  },
  {
   "cell_type": "code",
   "execution_count": 26,
   "id": "cf47a966",
   "metadata": {},
   "outputs": [
    {
     "name": "stdout",
     "output_type": "stream",
     "text": [
      "================================\u001b[1m Human Message \u001b[0m=================================\n",
      "\n",
      "Give me the recenet Tech News and then multiply 2 and 3\n",
      "==================================\u001b[1m Ai Message \u001b[0m==================================\n",
      "Tool Calls:\n",
      "  tavily_search (a8e64ce6-977a-4d89-a124-4aae1e8ccb07)\n",
      " Call ID: a8e64ce6-977a-4d89-a124-4aae1e8ccb07\n",
      "  Args:\n",
      "    query: Tech News\n",
      "    topic: news\n",
      "  multiply (13329619-9d88-416a-b4dd-5096ca753cad)\n",
      " Call ID: 13329619-9d88-416a-b4dd-5096ca753cad\n",
      "  Args:\n",
      "    a: 2.0\n",
      "    b: 3.0\n",
      "=================================\u001b[1m Tool Message \u001b[0m=================================\n",
      "Name: tavily_search\n",
      "\n",
      "{\"query\": \"Tech News\", \"follow_up_questions\": null, \"answer\": null, \"images\": [], \"results\": [{\"url\": \"https://www.telecomstechnews.com/news/the-human-firewall-building-a-cyber-aware-workforce/\", \"title\": \"The human firewall: Building a cyber-aware workforce - Telecoms Tech News\", \"score\": 0.51310796, \"published_date\": \"Tue, 12 Aug 2025 15:45:07 GMT\", \"content\": \"Image 1: Telecoms Tech News *   News *   Advertise with Telecoms Tech News *   About Telecoms Tech News *   News *   Advertise with Telecoms Tech News *   About Telecoms Tech News Image 2: Telecoms Tech News Image 4: Brick wall illustrating a firewall as cybercriminals know something that many businesses are still learning: people remain the weakest link in any security system. Human error accounts for up to 95% of security breaches, making employees both the greatest vulnerability and the most powerful defence against cyber threats. Industry events like the Cyber Security & Cloud Expo Europe provide valuable opportunities for security professionals to share best practices and learn about emerging threats. #### Other News *   Telecoms News Image 16: iot-tech-news-logo-1-1-300x87 Image 17: Marketing-Tech-1-300x46\", \"raw_content\": null}, {\"url\": \"https://www.phonearena.com/news/google-pixel-10-10-pro-10-pro-xl-10-pro-fold-even-more-info-leaked_id173078\", \"title\": \"The mother of all Google leaks reveals even more Pixel 10, 10 Pro, 10 Pro XL, and 10 Pro Fold info - PhoneArena\", \"score\": 0.36012948, \"published_date\": \"Mon, 11 Aug 2025 08:12:03 GMT\", \"content\": \"Trending News 6h Galaxy S26 Ultra's big ace over predecessor revealed [](https://www.phonearena.com/news/galaxy-s26-ultra-ram_id173068)What readers comment 10h Defying Apple, Jon Prosser is back with more iPhone 17 renders [](https://www.phonearena.com/news/priosser-back-at-it-again_id173062)What readers comment 10h This is what Apple’s ecosystem gets wrong — and what Google gets right [](https://www.phonearena.com/news/apples-ecosystem-wrong-google-right_id173050)What readers comment 17h Chinese manufacturers are rushing to beat Apple to the punch with iPhone’s next big thing [](https://www.phonearena.com/news/chinese-manufacturers-rushing-to-beat-apple-with-iphone-next-big-thing_id173058)What readers comment 21h This new Google Pixel 10 Pro XL leak leaves almost nothing to the imagination [](https://www.phonearena.com/news/this-new-google-pixel-10-pro-xl-leak-leaves-almost-nothing-to-the-imagination_id172971) Image 8: Leaked Google Pixel 10 Pro images in all colors Image 10: Leaked Google Pixel 10 Pro Fold image\", \"raw_content\": null}], \"response_time\": 0.43, \"request_id\": \"0c15ed37-fa21-4826-8eaf-19308b7a8d87\"}\n",
      "=================================\u001b[1m Tool Message \u001b[0m=================================\n",
      "Name: multiply\n",
      "\n",
      "6\n"
     ]
    }
   ],
   "source": [
    "response = graph.invoke({\"messages\": \"Give me the recenet Tech News and then multiply 2 and 3\"})\n",
    "for m in response['messages']:\n",
    "    m.pretty_print()"
   ]
  },
  {
   "cell_type": "markdown",
   "id": "5009b634",
   "metadata": {},
   "source": [
    "## ReAct Agent Architecture"
   ]
  },
  {
   "cell_type": "code",
   "execution_count": 22,
   "id": "68e28d0a",
   "metadata": {},
   "outputs": [
    {
     "data": {
      "image/png": "[encoded data removed]",
      "text/plain": [
       "<IPython.core.display.Image object>"
      ]
     },
     "metadata": {},
     "output_type": "display_data"
    }
   ],
   "source": [
    "## StateGraph with Tools\n",
    "from langgraph.graph import StateGraph, START, END\n",
    "from langgraph.prebuilt import ToolNode, tools_condition\n",
    "\n",
    "# Node definition\n",
    "def tool_calling_llm(state: State):\n",
    "    \"\"\"Node that calls the LLM with tools\"\"\"\n",
    "    messages = state[\"messages\"]\n",
    "    response = llm_with_tools.invoke(messages)\n",
    "    return {\"messages\": [response]}\n",
    "\n",
    "# Grapg definition\n",
    "graph_builder = StateGraph(State)\n",
    "graph_builder.add_node(\"tool_calling_llm\",tool_calling_llm)\n",
    "graph_builder.add_node(\"tools\",ToolNode(tools=tools))\n",
    "\n",
    "graph_builder.add_edge(START, \"tool_calling_llm\")\n",
    "graph_builder.add_conditional_edges(\n",
    "    \"tool_calling_llm\",\n",
    "    # if the latest message from the assistant is a tool call, then tools_condition routes the flow to the tools node\n",
    "    # if not, it routes to the END node\n",
    "    tools_condition\n",
    ")\n",
    "\n",
    "graph_builder.add_edge(\"tools\", \"tool_calling_llm\")\n",
    "graph_builder.add_edge(\"tool_calling_llm\", END)\n",
    "\n",
    "graph = graph_builder.compile()\n",
    "\n",
    "try:\n",
    "    display(Image(graph.get_graph().draw_mermaid_png()))\n",
    "except Exception:\n",
    "    pass"
   ]
  },
  {
   "cell_type": "code",
   "execution_count": 31,
   "id": "c278007d",
   "metadata": {},
   "outputs": [
    {
     "name": "stdout",
     "output_type": "stream",
     "text": [
      "================================\u001b[1m Human Message \u001b[0m=================================\n",
      "\n",
      "Give me the recenet Finance News and then multiply 2 and 3\n",
      "==================================\u001b[1m Ai Message \u001b[0m==================================\n",
      "\n",
      "Here's a look at some recent finance news and the answer to your calculation:\n",
      "\n",
      "## Recent Finance News (as of late May/early June 2024 - please note news is constantly evolving):\n",
      "\n",
      "**Global Economic Landscape:**\n",
      "\n",
      "*   **Inflation Concerns Persist, but Signs of Cooling:** While inflation remains a concern in many economies, there are some indications of it moderating. Central banks are still closely watching price pressures, particularly in services.\n",
      "*   **Interest Rate Decisions:** Many central banks, like the US Federal Reserve and the European Central Bank, are maintaining current interest rate levels or signaling a cautious approach to any potential rate cuts. The timing and pace of future rate adjustments remain a key focus for markets.\n",
      "*   **Geopolitical Tensions and Supply Chains:** Ongoing geopolitical events continue to influence global supply chains, energy prices, and overall economic stability. This can lead to volatility in commodity markets and impact corporate earnings.\n",
      "*   **Strong Labor Markets in Some Regions:** Despite economic uncertainties, some regions are still reporting robust labor markets, which can support consumer spending but also contribute to wage inflation.\n",
      "\n",
      "**Market Trends:**\n",
      "\n",
      "*   **Technology Sector Dominance:** The technology sector, particularly companies involved in artificial intelligence (AI), continues to be a significant driver of market performance in many regions.\n",
      "*   **Commodity Price Fluctuations:** Oil and gas prices remain sensitive to geopolitical events and global demand. Other commodities, like metals, are also experiencing price movements influenced by supply and demand dynamics.\n",
      "*   **Currency Movements:** Major currency pairs are seeing shifts based on differing economic outlooks and central bank policies.\n",
      "*   **Focus on Corporate Earnings:** Investors are closely scrutinizing corporate earnings reports for signs of resilience and future growth, especially in the context of higher interest rates and economic uncertainty.\n",
      "\n",
      "**Specific Areas of Interest:**\n",
      "\n",
      "*   **AI Investment Boom:** Significant investment continues to flow into AI-related companies and research, creating opportunities and potential bubbles.\n",
      "*   **Sustainability and ESG Investing:** Environmental, Social, and Governance (ESG) factors are increasingly influencing investment decisions, with a growing demand for sustainable businesses.\n",
      "*   **Regulatory Scrutiny:** Financial regulators are maintaining a close eye on various sectors, including fintech, cryptocurrency, and large tech companies, to ensure market stability and consumer protection.\n",
      "\n",
      "**Please remember that this is a snapshot, and financial news changes rapidly. For the most up-to-date information, it's best to consult reputable financial news sources.**\n",
      "\n",
      "---\n",
      "\n",
      "## Your Calculation:\n",
      "\n",
      "**2 multiplied by 3 is 6.**\n",
      "\n",
      "(2 * 3 = 6)\n"
     ]
    }
   ],
   "source": [
    "response = graph.invoke({\"messages\": \"Give me the recenet Finance News and then multiply 2 and 3\"})\n",
    "for m in response['messages']:\n",
    "    m.pretty_print()"
   ]
  },
  {
   "cell_type": "markdown",
   "id": "011fef76",
   "metadata": {},
   "source": [
    "## Adding Memory In Agentic Graph"
   ]
  },
  {
   "cell_type": "code",
   "execution_count": 32,
   "id": "aa37bdf2",
   "metadata": {},
   "outputs": [
    {
     "name": "stdout",
     "output_type": "stream",
     "text": [
      "================================\u001b[1m Human Message \u001b[0m=================================\n",
      "\n",
      "Hi! My name is Dhruv\n",
      "==================================\u001b[1m Ai Message \u001b[0m==================================\n",
      "\n",
      "Hi Dhruv! It's nice to meet you. How can I help you today?\n"
     ]
    }
   ],
   "source": [
    "response = graph.invoke({\"messages\": \"Hi! My name is Dhruv\"})\n",
    "for m in response['messages']:\n",
    "    m.pretty_print()"
   ]
  },
  {
   "cell_type": "code",
   "execution_count": 33,
   "id": "42f629d6",
   "metadata": {},
   "outputs": [
    {
     "name": "stdout",
     "output_type": "stream",
     "text": [
      "================================\u001b[1m Human Message \u001b[0m=================================\n",
      "\n",
      "Hi! What is my name?\n",
      "==================================\u001b[1m Ai Message \u001b[0m==================================\n",
      "\n",
      "I do not have access to your personal information, including your name. I am a large language model, trained by Google.\n"
     ]
    }
   ],
   "source": [
    "response = graph.invoke({\"messages\": \"Hi! What is my name?\"})\n",
    "for m in response['messages']:\n",
    "    m.pretty_print()"
   ]
  },
  {
   "cell_type": "code",
   "execution_count": 37,
   "id": "e27b9c26",
   "metadata": {},
   "outputs": [
    {
     "data": {
      "image/png": "[encoded data removed]",
      "text/plain": [
       "<IPython.core.display.Image object>"
      ]
     },
     "metadata": {},
     "output_type": "display_data"
    }
   ],
   "source": [
    "## StateGraph with Tools\n",
    "from langgraph.graph import StateGraph, START, END\n",
    "from langgraph.prebuilt import ToolNode, tools_condition\n",
    "from langgraph.checkpoint.memory import MemorySaver\n",
    "\n",
    "memory = MemorySaver()\n",
    "\n",
    "# Node definition\n",
    "def tool_calling_llm(state: State):\n",
    "    \"\"\"Node that calls the LLM with tools\"\"\"\n",
    "    messages = state[\"messages\"]\n",
    "    response = llm_with_tools.invoke(messages)\n",
    "    return {\"messages\": [response]}\n",
    "\n",
    "# Grapg definition\n",
    "graph_builder = StateGraph(State)\n",
    "graph_builder.add_node(\"tool_calling_llm\",tool_calling_llm)\n",
    "graph_builder.add_node(\"tools\",ToolNode(tools=tools))\n",
    "\n",
    "graph_builder.add_edge(START, \"tool_calling_llm\")\n",
    "graph_builder.add_conditional_edges(\n",
    "    \"tool_calling_llm\",\n",
    "    # if the latest message from the assistant is a tool call, then tools_condition routes the flow to the tools node\n",
    "    # if not, it routes to the END node\n",
    "    tools_condition\n",
    ")\n",
    "\n",
    "graph_builder.add_edge(\"tools\", \"tool_calling_llm\")\n",
    "graph_builder.add_edge(\"tool_calling_llm\", END)\n",
    "\n",
    "graph = graph_builder.compile(checkpointer=memory)\n",
    "\n",
    "try:\n",
    "    display(Image(graph.get_graph().draw_mermaid_png()))\n",
    "except Exception:\n",
    "    pass"
   ]
  },
  {
   "cell_type": "code",
   "execution_count": 38,
   "id": "78f32cc5",
   "metadata": {},
   "outputs": [
    {
     "name": "stdout",
     "output_type": "stream",
     "text": [
      "================================\u001b[1m Human Message \u001b[0m=================================\n",
      "\n",
      "Hi! My name is Dhruv\n",
      "==================================\u001b[1m Ai Message \u001b[0m==================================\n",
      "\n",
      "Hi Dhruv, it's nice to meet you! How can I help you today?\n"
     ]
    }
   ],
   "source": [
    "config = {\"configurable\": {\"thread_id\":\"1\"}}\n",
    "response = graph.invoke({\"messages\": \"Hi! My name is Dhruv\"}, config=config)\n",
    "for m in response['messages']:\n",
    "    m.pretty_print()\n"
   ]
  },
  {
   "cell_type": "code",
   "execution_count": 39,
   "id": "2edea183",
   "metadata": {},
   "outputs": [
    {
     "name": "stdout",
     "output_type": "stream",
     "text": [
      "================================\u001b[1m Human Message \u001b[0m=================================\n",
      "\n",
      "Hi! My name is Dhruv\n",
      "==================================\u001b[1m Ai Message \u001b[0m==================================\n",
      "\n",
      "Hi Dhruv, it's nice to meet you! How can I help you today?\n",
      "================================\u001b[1m Human Message \u001b[0m=================================\n",
      "\n",
      "Hi! What is my name?\n",
      "==================================\u001b[1m Ai Message \u001b[0m==================================\n",
      "\n",
      "Your name is Dhruv.\n"
     ]
    }
   ],
   "source": [
    "response = graph.invoke({\"messages\": \"Hi! What is my name?\"}, config=config)\n",
    "for m in response['messages']:\n",
    "    m.pretty_print()"
   ]
  },
  {
   "cell_type": "markdown",
   "id": "a3ece1cd",
   "metadata": {},
   "source": [
    "## Streaming"
   ]
  },
  {
   "cell_type": "code",
   "execution_count": 48,
   "id": "200d262a",
   "metadata": {},
   "outputs": [],
   "source": [
    "from langgraph.checkpoint.memory import MemorySaver\n",
    "memory = MemorySaver()"
   ]
  },
  {
   "cell_type": "code",
   "execution_count": 49,
   "id": "1c2bf5fb",
   "metadata": {},
   "outputs": [],
   "source": [
    "def superbot(state: State):\n",
    "    messages = state[\"messages\"]\n",
    "    response = llm.invoke(messages)\n",
    "    return {\"messages\": [response]}"
   ]
  },
  {
   "cell_type": "code",
   "execution_count": 50,
   "id": "b799eb52",
   "metadata": {},
   "outputs": [
    {
     "data": {
      "image/png": "[encoded data removed]",
      "text/plain": [
       "<IPython.core.display.Image object>"
      ]
     },
     "metadata": {},
     "output_type": "display_data"
    }
   ],
   "source": [
    "graph = StateGraph(State)\n",
    "graph.add_node(\"superbot\", superbot)\n",
    "graph.add_edge(START, \"superbot\")\n",
    "graph.add_edge(\"superbot\", END)\n",
    "\n",
    "graph = graph.compile(checkpointer=memory)\n",
    "\n",
    "#display(graph)aying the graph\n",
    "try:\n",
    "    display(Image(graph.get_graph().draw_mermaid_png()))\n",
    "except Exception:\n",
    "    pass"
   ]
  },
  {
   "cell_type": "code",
   "execution_count": 54,
   "id": "8ec4c223",
   "metadata": {},
   "outputs": [
    {
     "name": "stdout",
     "output_type": "stream",
     "text": [
      "================================\u001b[1m Human Message \u001b[0m=================================\n",
      "\n",
      "Hi! My name is Dhruv and I like Finance\n",
      "==================================\u001b[1m Ai Message \u001b[0m==================================\n",
      "\n",
      "Hi Dhruv! It's great to meet you. Finance is a fascinating field with so many different avenues to explore.\n",
      "\n",
      "What specifically about finance interests you the most? Are you drawn to:\n",
      "\n",
      "*   **Investing?** (Stocks, bonds, mutual funds, ETFs, etc.)\n",
      "*   **Corporate Finance?** (How companies manage their money, raise capital, make strategic decisions)\n",
      "*   **Personal Finance?** (Budgeting, saving, debt management, retirement planning)\n",
      "*   **Financial Markets?** (How exchanges work, trading, market dynamics)\n",
      "*   **Financial Technology (FinTech)?** (The intersection of finance and technology)\n",
      "*   **Accounting?** (The language of business, tracking financial transactions)\n",
      "*   **Financial Planning/Advisory?** (Helping individuals and families achieve their financial goals)\n",
      "*   **Something else entirely?**\n",
      "\n",
      "Knowing what sparks your interest will help me tailor our conversation. I'm happy to chat about anything finance-related!\n"
     ]
    }
   ],
   "source": [
    "config = {\"configurable\": {\"thread_id\":\"4\"}}\n",
    "response = graph.invoke({\"messages\": \"Hi! My name is Dhruv and I like Finance\"}, config=config)\n",
    "for m in response['messages']:\n",
    "    m.pretty_print()"
   ]
  },
  {
   "cell_type": "code",
   "execution_count": 55,
   "id": "437d52bf",
   "metadata": {},
   "outputs": [
    {
     "name": "stdout",
     "output_type": "stream",
     "text": [
      "Hi Dhruv! It's great to meet you. Finance is a fascinating and incredibly important field.\n",
      "\n",
      "What specifically about finance do you find most interesting? Are you drawn to:\n",
      "\n",
      "*   **Investing?** (Stocks, bonds, real estate, etc.)\n",
      "*   **Corporate Finance?** (How companies manage their money, raise capital, make financial decisions)\n",
      "*   **Personal Finance?** (Budgeting, saving, debt management, financial planning for individuals)\n",
      "*   **Financial Markets?** (How exchanges work, market trends, trading)\n",
      "*   **Economics?** (The broader study of how economies function)\n",
      "*   **Something else entirely?**\n",
      "\n",
      "Knowing what sparks your interest will help me understand how I can best chat with you about finance. I'm here to discuss anything from basic concepts to more complex topics. What's on your mind today?\n"
     ]
    }
   ],
   "source": [
    "config = {\"configurable\": {\"thread_id\":\"5\"}}\n",
    "for chunk in graph.stream({\"messages\": \"Hi, My name is Dhruv and I like Finance\"}, config=config, stream_mode=\"updates\"):\n",
    "    for value in chunk.values():\n",
    "        print(value[\"messages\"][-1].content)"
   ]
  },
  {
   "cell_type": "code",
   "execution_count": 56,
   "id": "7683bc5f",
   "metadata": {},
   "outputs": [
    {
     "name": "stdout",
     "output_type": "stream",
     "text": [
      "================================\u001b[1m Human Message \u001b[0m=================================\n",
      "\n",
      "Hi, My name is Dhruv and I like Finance\n",
      "==================================\u001b[1m Ai Message \u001b[0m==================================\n",
      "\n",
      "Hi Dhruv! It's great to meet you. Finance is a fascinating and incredibly important field.\n",
      "\n",
      "What specifically about finance do you find most interesting? Are you drawn to:\n",
      "\n",
      "*   **Investing?** (Stocks, bonds, real estate, etc.)\n",
      "*   **Corporate Finance?** (How companies manage their money, raise capital, make financial decisions)\n",
      "*   **Personal Finance?** (Budgeting, saving, debt management, financial planning for individuals)\n",
      "*   **Financial Markets?** (How exchanges work, market trends, trading)\n",
      "*   **Economics?** (The broader study of how economies function)\n",
      "*   **Something else entirely?**\n",
      "\n",
      "Knowing what sparks your interest will help me understand how I can best chat with you about finance. I'm here to discuss anything from basic concepts to more complex topics. What's on your mind today?\n",
      "================================\u001b[1m Human Message \u001b[0m=================================\n",
      "\n",
      "What are top job roles in this area?\n",
      "================================\u001b[1m Human Message \u001b[0m=================================\n",
      "\n",
      "Hi, My name is Dhruv and I like Finance\n",
      "==================================\u001b[1m Ai Message \u001b[0m==================================\n",
      "\n",
      "Hi Dhruv! It's great to meet you. Finance is a fascinating and incredibly important field.\n",
      "\n",
      "What specifically about finance do you find most interesting? Are you drawn to:\n",
      "\n",
      "*   **Investing?** (Stocks, bonds, real estate, etc.)\n",
      "*   **Corporate Finance?** (How companies manage their money, raise capital, make financial decisions)\n",
      "*   **Personal Finance?** (Budgeting, saving, debt management, financial planning for individuals)\n",
      "*   **Financial Markets?** (How exchanges work, market trends, trading)\n",
      "*   **Economics?** (The broader study of how economies function)\n",
      "*   **Something else entirely?**\n",
      "\n",
      "Knowing what sparks your interest will help me understand how I can best chat with you about finance. I'm here to discuss anything from basic concepts to more complex topics. What's on your mind today?\n",
      "================================\u001b[1m Human Message \u001b[0m=================================\n",
      "\n",
      "What are top job roles in this area?\n",
      "==================================\u001b[1m Ai Message \u001b[0m==================================\n",
      "\n",
      "That's a fantastic question, Dhruv! The finance industry is incredibly diverse, and there are a wide array of rewarding career paths. The \"top\" job roles can depend on what you value – salary, impact, work-life balance, intellectual challenge, etc. However, here are some of the most sought-after and prominent job roles in finance, categorized for clarity:\n",
      "\n",
      "**1. Investment Banking:**\n",
      "\n",
      "*   **Investment Banker:** Advises companies on mergers and acquisitions (M&A), capital raising (IPOs, debt offerings), and other strategic financial transactions. This is a high-pressure, high-reward field.\n",
      "*   **Analyst (Investment Banking):** Entry-level role supporting bankers with financial modeling, valuation, pitch book creation, and market research.\n",
      "*   **Associate (Investment Banking):** More experienced role, often managing analysts and taking on more client interaction.\n",
      "\n",
      "**2. Asset Management / Investment Management:**\n",
      "\n",
      "*   **Portfolio Manager:** Manages investment portfolios for individuals or institutions, aiming to achieve specific financial goals by selecting and allocating assets.\n",
      "*   **Research Analyst (Buy-Side):** Analyzes companies, industries, and economic trends to make investment recommendations for portfolio managers.\n",
      "*   **Hedge Fund Manager:** Manages specialized investment funds with unique strategies, often employing complex financial instruments and leverage.\n",
      "\n",
      "**3. Sales & Trading:**\n",
      "\n",
      "*   **Trader:** Buys and sells financial securities (stocks, bonds, derivatives) on behalf of a firm or its clients, aiming to profit from price movements.\n",
      "*   **Salesperson:** Builds relationships with institutional clients (pension funds, mutual funds) and sells them financial products and research.\n",
      "*   **Quant (Quantitative Analyst):** Develops complex mathematical models and algorithms for trading strategies, risk management, and pricing financial instruments.\n",
      "\n",
      "**4. Corporate Finance:**\n",
      "\n",
      "*   **Financial Analyst (Corporate):** Supports a company's internal financial operations, including budgeting, forecasting, financial planning and analysis (FP&A), and performance reporting.\n",
      "*   **Treasurer:** Manages a company's cash flow, debt, and investments, ensuring the company has sufficient liquidity.\n",
      "*   **Chief Financial Officer (CFO):** The top financial executive responsible for the overall financial health and strategy of a company.\n",
      "\n",
      "**5. Financial Planning & Analysis (FP&A):**\n",
      "\n",
      "*   **FP&A Manager/Director:** Oversees the budgeting, forecasting, and strategic financial planning processes for a company.\n",
      "\n",
      "**6. Risk Management:**\n",
      "\n",
      "*   **Risk Analyst/Manager:** Identifies, assesses, and mitigates financial risks faced by an organization (e.g., market risk, credit risk, operational risk).\n",
      "*   **Credit Analyst:** Evaluates the creditworthiness of individuals or companies to determine the risk of lending money.\n",
      "\n",
      "**7. Financial Advisory / Wealth Management:**\n",
      "\n",
      "*   **Financial Advisor/Planner:** Provides personalized financial advice to individuals and families on topics like retirement planning, investment strategies, insurance, and estate planning.\n",
      "*   **Wealth Manager:** A more comprehensive service that often includes financial planning, investment management, and tax planning for high-net-worth individuals.\n",
      "\n",
      "**8. Fintech (Financial Technology):**\n",
      "\n",
      "*   **Product Manager (Fintech):** Develops and manages financial technology products and services.\n",
      "*   **Data Scientist (Fintech):** Uses data analysis and machine learning to improve financial products, detect fraud, and personalize customer experiences.\n",
      "\n",
      "**9. Accounting (often intertwined with Finance):**\n",
      "\n",
      "*   **Accountant:** Records, analyzes, and reports financial transactions. While distinct, accountants are crucial for financial operations.\n",
      "*   **Auditor:** Examines financial records to ensure accuracy and compliance with regulations.\n",
      "\n",
      "**What makes a role \"top\"?**\n",
      "\n",
      "*   **Compensation:** Many of these roles, especially in investment banking, hedge funds, and trading, offer very high earning potential.\n",
      "*   **Intellectual Challenge:** Roles like Quant, Research Analyst, and Portfolio Manager require strong analytical and problem-solving skills.\n",
      "*   **Impact:** Roles like CFO or Portfolio Manager have a significant impact on the success of a company or the financial well-being of clients.\n",
      "*   **Prestige:** Certain fields like investment banking and hedge fund management carry a certain level of prestige.\n",
      "\n",
      "To figure out what might be \"top\" for *you*, Dhruv, consider what kind of work environment you thrive in, what problems you enjoy solving, and what your long-term career aspirations are.\n",
      "\n",
      "Does any of these categories particularly pique your interest? We can dive deeper into any of them!\n"
     ]
    }
   ],
   "source": [
    "config = {\"configurable\": {\"thread_id\":\"5\"}}\n",
    "for chunk in graph.stream({\"messages\": \"What are top job roles in this area?\"}, config=config, stream_mode=\"values\"):\n",
    "    for m in chunk['messages']:\n",
    "        m.pretty_print()"
   ]
  },
  {
   "cell_type": "code",
   "execution_count": 58,
   "id": "0673837b",
   "metadata": {},
   "outputs": [
    {
     "name": "stdout",
     "output_type": "stream",
     "text": [
      "{'event': 'on_chain_start', 'data': {'input': {'messages': 'Hi, My name is Dhruv and I like playing badminton'}}, 'name': 'LangGraph', 'tags': [], 'run_id': '4552d2c6-e7f6-456e-acdf-1caffa8bb2ec', 'metadata': {'thread_id': '6'}, 'parent_ids': []}\n",
      "{'event': 'on_chain_start', 'data': {'input': {'messages': [HumanMessage(content='Hi, My name is Dhruv and I like playing badminton', additional_kwargs={}, response_metadata={}, id='9bbe0bbc-4703-4c90-b222-a73123e3d445'), AIMessage(content=\"Hi Dhruv! It's great to meet you! Badminton is a fantastic sport. What do you enjoy most about playing it? Are you a beginner, intermediate, or advanced player? Do you have a favorite player or team you follow? I'd love to hear more about your passion for badminton!\", additional_kwargs={}, response_metadata={'safety_ratings': [], 'finish_reason': 'STOP', 'model_name': 'gemini-2.5-flash-lite'}, id='run--19e6c3c4-1c73-4553-8267-ee18c5a38a60', usage_metadata={'input_tokens': 13, 'output_tokens': 62, 'total_tokens': 75, 'input_token_details': {'cache_read': 0}}), HumanMessage(content='Hi, My name is Dhruv and I like playing badminton', additional_kwargs={}, response_metadata={}, id='882e417a-41f4-4754-8228-235de8d5f517')]}}, 'name': 'superbot', 'tags': ['graph:step:4'], 'run_id': '475a0f98-cfa6-4f8c-b790-f1ab9f6e42e9', 'metadata': {'thread_id': '6', 'langgraph_step': 4, 'langgraph_node': 'superbot', 'langgraph_triggers': ('branch:to:superbot',), 'langgraph_path': ('__pregel_pull', 'superbot'), 'langgraph_checkpoint_ns': 'superbot:b302f1c7-1e47-5323-02ea-32cf25fe5ee8'}, 'parent_ids': ['4552d2c6-e7f6-456e-acdf-1caffa8bb2ec']}\n",
      "{'event': 'on_chat_model_start', 'data': {'input': {'messages': [[HumanMessage(content='Hi, My name is Dhruv and I like playing badminton', additional_kwargs={}, response_metadata={}, id='9bbe0bbc-4703-4c90-b222-a73123e3d445'), AIMessage(content=\"Hi Dhruv! It's great to meet you! Badminton is a fantastic sport. What do you enjoy most about playing it? Are you a beginner, intermediate, or advanced player? Do you have a favorite player or team you follow? I'd love to hear more about your passion for badminton!\", additional_kwargs={}, response_metadata={'safety_ratings': [], 'finish_reason': 'STOP', 'model_name': 'gemini-2.5-flash-lite'}, id='run--19e6c3c4-1c73-4553-8267-ee18c5a38a60', usage_metadata={'input_tokens': 13, 'output_tokens': 62, 'total_tokens': 75, 'input_token_details': {'cache_read': 0}}), HumanMessage(content='Hi, My name is Dhruv and I like playing badminton', additional_kwargs={}, response_metadata={}, id='882e417a-41f4-4754-8228-235de8d5f517')]]}}, 'name': 'ChatGoogleGenerativeAI', 'tags': ['seq:step:1'], 'run_id': '3d7c6d73-d993-4cf3-baa2-2c2b664cb545', 'metadata': {'thread_id': '6', 'langgraph_step': 4, 'langgraph_node': 'superbot', 'langgraph_triggers': ('branch:to:superbot',), 'langgraph_path': ('__pregel_pull', 'superbot'), 'langgraph_checkpoint_ns': 'superbot:b302f1c7-1e47-5323-02ea-32cf25fe5ee8', 'checkpoint_ns': 'superbot:b302f1c7-1e47-5323-02ea-32cf25fe5ee8', 'ls_provider': 'google_genai', 'ls_model_name': 'gemini-2.5-flash-lite', 'ls_model_type': 'chat', 'ls_temperature': 0.7}, 'parent_ids': ['4552d2c6-e7f6-456e-acdf-1caffa8bb2ec', '475a0f98-cfa6-4f8c-b790-f1ab9f6e42e9']}\n",
      "{'event': 'on_chat_model_stream', 'data': {'chunk': AIMessageChunk(content=\"Hi Dhruv! It'\", additional_kwargs={}, response_metadata={'safety_ratings': []}, id='run--3d7c6d73-d993-4cf3-baa2-2c2b664cb545', usage_metadata={'input_tokens': 89, 'output_tokens': 6, 'total_tokens': 95, 'input_token_details': {'cache_read': 0}})}, 'run_id': '3d7c6d73-d993-4cf3-baa2-2c2b664cb545', 'name': 'ChatGoogleGenerativeAI', 'tags': ['seq:step:1'], 'metadata': {'thread_id': '6', 'langgraph_step': 4, 'langgraph_node': 'superbot', 'langgraph_triggers': ('branch:to:superbot',), 'langgraph_path': ('__pregel_pull', 'superbot'), 'langgraph_checkpoint_ns': 'superbot:b302f1c7-1e47-5323-02ea-32cf25fe5ee8', 'checkpoint_ns': 'superbot:b302f1c7-1e47-5323-02ea-32cf25fe5ee8', 'ls_provider': 'google_genai', 'ls_model_name': 'gemini-2.5-flash-lite', 'ls_model_type': 'chat', 'ls_temperature': 0.7}, 'parent_ids': ['4552d2c6-e7f6-456e-acdf-1caffa8bb2ec', '475a0f98-cfa6-4f8c-b790-f1ab9f6e42e9']}\n",
      "{'event': 'on_chat_model_stream', 'data': {'chunk': AIMessageChunk(content='s great to meet you! Badminton is a fantastic sport. What do you enjoy most about playing', additional_kwargs={}, response_metadata={'safety_ratings': []}, id='run--3d7c6d73-d993-4cf3-baa2-2c2b664cb545', usage_metadata={'input_token_details': {'cache_read': 0}, 'total_tokens': 19, 'input_tokens': 0, 'output_tokens': 19})}, 'run_id': '3d7c6d73-d993-4cf3-baa2-2c2b664cb545', 'name': 'ChatGoogleGenerativeAI', 'tags': ['seq:step:1'], 'metadata': {'thread_id': '6', 'langgraph_step': 4, 'langgraph_node': 'superbot', 'langgraph_triggers': ('branch:to:superbot',), 'langgraph_path': ('__pregel_pull', 'superbot'), 'langgraph_checkpoint_ns': 'superbot:b302f1c7-1e47-5323-02ea-32cf25fe5ee8', 'checkpoint_ns': 'superbot:b302f1c7-1e47-5323-02ea-32cf25fe5ee8', 'ls_provider': 'google_genai', 'ls_model_name': 'gemini-2.5-flash-lite', 'ls_model_type': 'chat', 'ls_temperature': 0.7}, 'parent_ids': ['4552d2c6-e7f6-456e-acdf-1caffa8bb2ec', '475a0f98-cfa6-4f8c-b790-f1ab9f6e42e9']}\n",
      "{'event': 'on_chat_model_stream', 'data': {'chunk': AIMessageChunk(content=\" it? Are you a beginner, intermediate, or advanced player? Do you have a favorite player or team you follow? I'd love to hear more about your passion for badminton!\", additional_kwargs={}, response_metadata={'finish_reason': 'STOP', 'model_name': 'gemini-2.5-flash-lite', 'safety_ratings': []}, id='run--3d7c6d73-d993-4cf3-baa2-2c2b664cb545', usage_metadata={'input_token_details': {'cache_read': 0}, 'total_tokens': 37, 'input_tokens': 0, 'output_tokens': 37})}, 'run_id': '3d7c6d73-d993-4cf3-baa2-2c2b664cb545', 'name': 'ChatGoogleGenerativeAI', 'tags': ['seq:step:1'], 'metadata': {'thread_id': '6', 'langgraph_step': 4, 'langgraph_node': 'superbot', 'langgraph_triggers': ('branch:to:superbot',), 'langgraph_path': ('__pregel_pull', 'superbot'), 'langgraph_checkpoint_ns': 'superbot:b302f1c7-1e47-5323-02ea-32cf25fe5ee8', 'checkpoint_ns': 'superbot:b302f1c7-1e47-5323-02ea-32cf25fe5ee8', 'ls_provider': 'google_genai', 'ls_model_name': 'gemini-2.5-flash-lite', 'ls_model_type': 'chat', 'ls_temperature': 0.7}, 'parent_ids': ['4552d2c6-e7f6-456e-acdf-1caffa8bb2ec', '475a0f98-cfa6-4f8c-b790-f1ab9f6e42e9']}\n",
      "{'event': 'on_chat_model_end', 'data': {'output': AIMessage(content=\"Hi Dhruv! It's great to meet you! Badminton is a fantastic sport. What do you enjoy most about playing it? Are you a beginner, intermediate, or advanced player? Do you have a favorite player or team you follow? I'd love to hear more about your passion for badminton!\", additional_kwargs={}, response_metadata={'safety_ratings': [], 'finish_reason': 'STOP', 'model_name': 'gemini-2.5-flash-lite'}, id='run--3d7c6d73-d993-4cf3-baa2-2c2b664cb545', usage_metadata={'input_tokens': 89, 'output_tokens': 62, 'total_tokens': 151, 'input_token_details': {'cache_read': 0}}), 'input': {'messages': [[HumanMessage(content='Hi, My name is Dhruv and I like playing badminton', additional_kwargs={}, response_metadata={}, id='9bbe0bbc-4703-4c90-b222-a73123e3d445'), AIMessage(content=\"Hi Dhruv! It's great to meet you! Badminton is a fantastic sport. What do you enjoy most about playing it? Are you a beginner, intermediate, or advanced player? Do you have a favorite player or team you follow? I'd love to hear more about your passion for badminton!\", additional_kwargs={}, response_metadata={'safety_ratings': [], 'finish_reason': 'STOP', 'model_name': 'gemini-2.5-flash-lite'}, id='run--19e6c3c4-1c73-4553-8267-ee18c5a38a60', usage_metadata={'input_tokens': 13, 'output_tokens': 62, 'total_tokens': 75, 'input_token_details': {'cache_read': 0}}), HumanMessage(content='Hi, My name is Dhruv and I like playing badminton', additional_kwargs={}, response_metadata={}, id='882e417a-41f4-4754-8228-235de8d5f517')]]}}, 'run_id': '3d7c6d73-d993-4cf3-baa2-2c2b664cb545', 'name': 'ChatGoogleGenerativeAI', 'tags': ['seq:step:1'], 'metadata': {'thread_id': '6', 'langgraph_step': 4, 'langgraph_node': 'superbot', 'langgraph_triggers': ('branch:to:superbot',), 'langgraph_path': ('__pregel_pull', 'superbot'), 'langgraph_checkpoint_ns': 'superbot:b302f1c7-1e47-5323-02ea-32cf25fe5ee8', 'checkpoint_ns': 'superbot:b302f1c7-1e47-5323-02ea-32cf25fe5ee8', 'ls_provider': 'google_genai', 'ls_model_name': 'gemini-2.5-flash-lite', 'ls_model_type': 'chat', 'ls_temperature': 0.7}, 'parent_ids': ['4552d2c6-e7f6-456e-acdf-1caffa8bb2ec', '475a0f98-cfa6-4f8c-b790-f1ab9f6e42e9']}\n",
      "{'event': 'on_chain_stream', 'run_id': '475a0f98-cfa6-4f8c-b790-f1ab9f6e42e9', 'name': 'superbot', 'tags': ['graph:step:4'], 'metadata': {'thread_id': '6', 'langgraph_step': 4, 'langgraph_node': 'superbot', 'langgraph_triggers': ('branch:to:superbot',), 'langgraph_path': ('__pregel_pull', 'superbot'), 'langgraph_checkpoint_ns': 'superbot:b302f1c7-1e47-5323-02ea-32cf25fe5ee8'}, 'data': {'chunk': {'messages': [AIMessage(content=\"Hi Dhruv! It's great to meet you! Badminton is a fantastic sport. What do you enjoy most about playing it? Are you a beginner, intermediate, or advanced player? Do you have a favorite player or team you follow? I'd love to hear more about your passion for badminton!\", additional_kwargs={}, response_metadata={'safety_ratings': [], 'finish_reason': 'STOP', 'model_name': 'gemini-2.5-flash-lite'}, id='run--3d7c6d73-d993-4cf3-baa2-2c2b664cb545', usage_metadata={'input_tokens': 89, 'output_tokens': 62, 'total_tokens': 151, 'input_token_details': {'cache_read': 0}})]}}, 'parent_ids': ['4552d2c6-e7f6-456e-acdf-1caffa8bb2ec']}\n",
      "{'event': 'on_chain_end', 'data': {'output': {'messages': [AIMessage(content=\"Hi Dhruv! It's great to meet you! Badminton is a fantastic sport. What do you enjoy most about playing it? Are you a beginner, intermediate, or advanced player? Do you have a favorite player or team you follow? I'd love to hear more about your passion for badminton!\", additional_kwargs={}, response_metadata={'safety_ratings': [], 'finish_reason': 'STOP', 'model_name': 'gemini-2.5-flash-lite'}, id='run--3d7c6d73-d993-4cf3-baa2-2c2b664cb545', usage_metadata={'input_tokens': 89, 'output_tokens': 62, 'total_tokens': 151, 'input_token_details': {'cache_read': 0}})]}, 'input': {'messages': [HumanMessage(content='Hi, My name is Dhruv and I like playing badminton', additional_kwargs={}, response_metadata={}, id='9bbe0bbc-4703-4c90-b222-a73123e3d445'), AIMessage(content=\"Hi Dhruv! It's great to meet you! Badminton is a fantastic sport. What do you enjoy most about playing it? Are you a beginner, intermediate, or advanced player? Do you have a favorite player or team you follow? I'd love to hear more about your passion for badminton!\", additional_kwargs={}, response_metadata={'safety_ratings': [], 'finish_reason': 'STOP', 'model_name': 'gemini-2.5-flash-lite'}, id='run--19e6c3c4-1c73-4553-8267-ee18c5a38a60', usage_metadata={'input_tokens': 13, 'output_tokens': 62, 'total_tokens': 75, 'input_token_details': {'cache_read': 0}}), HumanMessage(content='Hi, My name is Dhruv and I like playing badminton', additional_kwargs={}, response_metadata={}, id='882e417a-41f4-4754-8228-235de8d5f517')]}}, 'run_id': '475a0f98-cfa6-4f8c-b790-f1ab9f6e42e9', 'name': 'superbot', 'tags': ['graph:step:4'], 'metadata': {'thread_id': '6', 'langgraph_step': 4, 'langgraph_node': 'superbot', 'langgraph_triggers': ('branch:to:superbot',), 'langgraph_path': ('__pregel_pull', 'superbot'), 'langgraph_checkpoint_ns': 'superbot:b302f1c7-1e47-5323-02ea-32cf25fe5ee8'}, 'parent_ids': ['4552d2c6-e7f6-456e-acdf-1caffa8bb2ec']}\n",
      "{'event': 'on_chain_stream', 'run_id': '4552d2c6-e7f6-456e-acdf-1caffa8bb2ec', 'name': 'LangGraph', 'tags': [], 'metadata': {'thread_id': '6'}, 'data': {'chunk': {'superbot': {'messages': [AIMessage(content=\"Hi Dhruv! It's great to meet you! Badminton is a fantastic sport. What do you enjoy most about playing it? Are you a beginner, intermediate, or advanced player? Do you have a favorite player or team you follow? I'd love to hear more about your passion for badminton!\", additional_kwargs={}, response_metadata={'safety_ratings': [], 'finish_reason': 'STOP', 'model_name': 'gemini-2.5-flash-lite'}, id='run--3d7c6d73-d993-4cf3-baa2-2c2b664cb545', usage_metadata={'input_tokens': 89, 'output_tokens': 62, 'total_tokens': 151, 'input_token_details': {'cache_read': 0}})]}}}, 'parent_ids': []}\n",
      "{'event': 'on_chain_end', 'data': {'output': {'messages': [HumanMessage(content='Hi, My name is Dhruv and I like playing badminton', additional_kwargs={}, response_metadata={}, id='9bbe0bbc-4703-4c90-b222-a73123e3d445'), AIMessage(content=\"Hi Dhruv! It's great to meet you! Badminton is a fantastic sport. What do you enjoy most about playing it? Are you a beginner, intermediate, or advanced player? Do you have a favorite player or team you follow? I'd love to hear more about your passion for badminton!\", additional_kwargs={}, response_metadata={'safety_ratings': [], 'finish_reason': 'STOP', 'model_name': 'gemini-2.5-flash-lite'}, id='run--19e6c3c4-1c73-4553-8267-ee18c5a38a60', usage_metadata={'input_tokens': 13, 'output_tokens': 62, 'total_tokens': 75, 'input_token_details': {'cache_read': 0}}), HumanMessage(content='Hi, My name is Dhruv and I like playing badminton', additional_kwargs={}, response_metadata={}, id='882e417a-41f4-4754-8228-235de8d5f517'), AIMessage(content=\"Hi Dhruv! It's great to meet you! Badminton is a fantastic sport. What do you enjoy most about playing it? Are you a beginner, intermediate, or advanced player? Do you have a favorite player or team you follow? I'd love to hear more about your passion for badminton!\", additional_kwargs={}, response_metadata={'safety_ratings': [], 'finish_reason': 'STOP', 'model_name': 'gemini-2.5-flash-lite'}, id='run--3d7c6d73-d993-4cf3-baa2-2c2b664cb545', usage_metadata={'input_tokens': 89, 'output_tokens': 62, 'total_tokens': 151, 'input_token_details': {'cache_read': 0}})]}}, 'run_id': '4552d2c6-e7f6-456e-acdf-1caffa8bb2ec', 'name': 'LangGraph', 'tags': [], 'metadata': {'thread_id': '6'}, 'parent_ids': []}\n"
     ]
    }
   ],
   "source": [
    "config = {\"configurable\": {\"thread_id\":\"6\"}}\n",
    "async for chunk in graph.astream_events({\"messages\": \"Hi, My name is Dhruv and I like playing badminton\"}, config=config, stream_mode=\"updates\"):\n",
    "    print(chunk)"
   ]
  },
  {
   "cell_type": "markdown",
   "id": "25acf881",
   "metadata": {},
   "source": [
    "## Human in the Loop"
   ]
  },
  {
   "cell_type": "code",
   "execution_count": 59,
   "id": "9a8aeb07",
   "metadata": {},
   "outputs": [
    {
     "data": {
      "text/plain": [
       "ChatGoogleGenerativeAI(model='models/gemini-2.5-flash-lite', google_api_key=SecretStr('**********'), client=<google.ai.generativelanguage_v1beta.services.generative_service.client.GenerativeServiceClient object at 0x11a61ccd0>, default_metadata=(), model_kwargs={})"
      ]
     },
     "execution_count": 59,
     "metadata": {},
     "output_type": "execute_result"
    }
   ],
   "source": [
    "import os\n",
    "from langchain.chat_models import init_chat_model\n",
    "llm = init_chat_model(\"google_genai:gemini-2.5-flash-lite\")\n",
    "llm"
   ]
  },
  {
   "cell_type": "code",
   "execution_count": 62,
   "id": "8f92685a",
   "metadata": {},
   "outputs": [
    {
     "data": {
      "image/png": "[encoded data removed]",
      "text/plain": [
       "<IPython.core.display.Image object>"
      ]
     },
     "metadata": {},
     "output_type": "display_data"
    }
   ],
   "source": [
    "from typing import Annotated\n",
    "\n",
    "from typing_extensions import TypedDict\n",
    "\n",
    "from langgraph.graph import StateGraph, START, END\n",
    "from langgraph.graph.message import add_messages\n",
    "from langgraph.prebuilt import ToolNode, tools_condition\n",
    "from langgraph.checkpoint.memory import MemorySaver\n",
    "from langchain_core.tools import tool\n",
    "\n",
    "from langchain_tavily import TavilySearch\n",
    "\n",
    "from langgraph.types import Command, interrupt\n",
    "\n",
    "class State(TypedDict):\n",
    "    messages: Annotated[list, add_messages]\n",
    "\n",
    "graph_builder = StateGraph(State)\n",
    "\n",
    "@tool\n",
    "def human_assistance(query: str) -> str:\n",
    "    \"\"\"Get human assistance for the query\"\"\"\n",
    "    human_response = interrupt({\"query\":query})\n",
    "    return human_response[\"data\"]\n",
    "\n",
    "tool = TavilySearch(max_results=2)\n",
    "tools = [tool, human_assistance]\n",
    "\n",
    "llm_with_tools = llm.bind_tools(tools)\n",
    "\n",
    "def chatbot(state: State):\n",
    "    messages = state[\"messages\"]\n",
    "    response = llm_with_tools.invoke(messages)\n",
    "    return {\"messages\": [response]}\n",
    "\n",
    "graph_builder.add_node(\"chatbot\",chatbot)\n",
    "\n",
    "tool_node = ToolNode(tools=tools)\n",
    "graph_builder.add_node(\"tools\",tool_node)\n",
    "\n",
    "graph_builder.add_conditional_edges(\n",
    "    \"chatbot\",\n",
    "    tools_condition\n",
    ")\n",
    "\n",
    "graph_builder.add_edge(START, \"chatbot\")\n",
    "graph_builder.add_edge(\"tools\", \"chatbot\")\n",
    "graph_builder.add_edge(\"chatbot\", END)\n",
    "\n",
    "memory = MemorySaver()\n",
    "graph = graph_builder.compile(checkpointer=memory)\n",
    "\n",
    "#displaying the graph\n",
    "try:\n",
    "    display(Image(graph.get_graph().draw_mermaid_png()))\n",
    "except Exception:\n",
    "    pass\n"
   ]
  },
  {
   "cell_type": "code",
   "execution_count": 63,
   "id": "597d5568",
   "metadata": {},
   "outputs": [
    {
     "name": "stdout",
     "output_type": "stream",
     "text": [
      "================================\u001b[1m Human Message \u001b[0m=================================\n",
      "\n",
      "I need some expert advice on investing in stocks. Could you request assistance for me?\n",
      "==================================\u001b[1m Ai Message \u001b[0m==================================\n",
      "Tool Calls:\n",
      "  human_assistance (05c302e3-4198-463a-a069-99d0e4a135ef)\n",
      " Call ID: 05c302e3-4198-463a-a069-99d0e4a135ef\n",
      "  Args:\n",
      "    query: Expert advice on investing in stocks\n"
     ]
    }
   ],
   "source": [
    "user_input = \"I need some expert advice on investing in stocks. Could you request assistance for me?\"\n",
    "config = {\"configurable\": {\"thread_id\":\"7\"}}\n",
    "\n",
    "event = graph.stream(\n",
    "    {\"messages\": user_input}, \n",
    "    config=config, \n",
    "    stream_mode=\"values\"\n",
    ")\n",
    "for event in event:\n",
    "    if \"messages\" in event:\n",
    "        event['messages'][-1].pretty_print()"
   ]
  },
  {
   "cell_type": "code",
   "execution_count": 65,
   "id": "d7689114",
   "metadata": {},
   "outputs": [
    {
     "name": "stdout",
     "output_type": "stream",
     "text": [
      "==================================\u001b[1m Ai Message \u001b[0m==================================\n",
      "Tool Calls:\n",
      "  human_assistance (05c302e3-4198-463a-a069-99d0e4a135ef)\n",
      " Call ID: 05c302e3-4198-463a-a069-99d0e4a135ef\n",
      "  Args:\n",
      "    query: Expert advice on investing in stocks\n",
      "=================================\u001b[1m Tool Message \u001b[0m=================================\n",
      "Name: human_assistance\n",
      "\n",
      "Sure, I recommend diversifying your portfolio across various sectors. Consider investing in index funds for broad market exposure and consult with a financial advisor for personalized advice.\n",
      "==================================\u001b[1m Ai Message \u001b[0m==================================\n",
      "\n",
      "I recommend diversifying your portfolio across various sectors. Consider investing in index funds for broad market exposure and consult with a financial advisor for personalized advice.\n"
     ]
    }
   ],
   "source": [
    "human_response = (\n",
    "    \"Sure, I recommend diversifying your portfolio across various sectors. \"\n",
    "    \"Consider investing in index funds for broad market exposure and consult with a financial advisor for personalized advice.\"\n",
    ")\n",
    "\n",
    "human_command = Command(resume={\"data\": human_response})\n",
    "\n",
    "for event in graph.stream(human_command, config=config, stream_mode=\"values\"):\n",
    "    if \"messages\" in event:\n",
    "        event['messages'][-1].pretty_print()"
   ]
  },
  {
   "cell_type": "code",
   "execution_count": null,
   "id": "ad3a613e",
   "metadata": {},
   "outputs": [],
   "source": []
  }
 ],
 "metadata": {
  "kernelspec": {
   "display_name": "venv (3.13.3)",
   "language": "python",
   "name": "python3"
  },
  "language_info": {
   "codemirror_mode": {
    "name": "ipython",
    "version": 3
   },
   "file_extension": ".py",
   "mimetype": "text/x-python",
   "name": "python",
   "nbconvert_exporter": "python",
   "pygments_lexer": "ipython3",
   "version": "3.13.3"
  }
 },
 "nbformat": 4,
 "nbformat_minor": 5
}
